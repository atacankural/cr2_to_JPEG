{
 "cells": [
  {
   "cell_type": "code",
   "execution_count": 1,
   "id": "456717d1",
   "metadata": {},
   "outputs": [],
   "source": [
    "import os\n"
   ]
  },
  {
   "cell_type": "code",
   "execution_count": 4,
   "id": "4b078bc4",
   "metadata": {},
   "outputs": [],
   "source": [
    "import rawpy\n",
    "import imageio"
   ]
  },
  {
   "cell_type": "code",
   "execution_count": 5,
   "id": "6500c7c6",
   "metadata": {},
   "outputs": [],
   "source": [
    "def batch_convert_cr2_to_jpeg(input_folder, output_folder):\n",
    "    # Giriş klasöründeki tüm dosyaları tarar\n",
    "    for filename in os.listdir(input_folder):\n",
    "        if filename.endswith(\".CR2\"):\n",
    "            # CR2 dosyasını JPEG formatına dönüştürür\n",
    "            cr2_path = os.path.join(input_folder, filename)\n",
    "            jpeg_filename = os.path.splitext(filename)[0] + \".jpg\"\n",
    "            jpeg_path = os.path.join(output_folder, jpeg_filename)\n",
    "            convert_cr2_to_jpeg(cr2_path, jpeg_path)"
   ]
  },
  {
   "cell_type": "code",
   "execution_count": 6,
   "id": "b4009fab",
   "metadata": {},
   "outputs": [],
   "source": [
    "def convert_cr2_to_jpeg(cr2_path, jpeg_path):\n",
    "    with rawpy.imread(cr2_path) as raw:\n",
    "        rgb = raw.postprocess()\n",
    "        imageio.imsave(jpeg_path, rgb)\n"
   ]
  },
  {
   "cell_type": "code",
   "execution_count": 10,
   "id": "73b19f4e",
   "metadata": {},
   "outputs": [],
   "source": [
    "\n",
    "# Folders path\n",
    "input_folder = r\"C:\\Users\\ataca\\MyRoom\\100CANON\"\n",
    "output_folder = r\"C:\\Users\\ataca\\MyRoom\\OutputJPEG\"\n"
   ]
  },
  {
   "cell_type": "code",
   "execution_count": 11,
   "id": "f00ac48e",
   "metadata": {},
   "outputs": [],
   "source": [
    "batch_convert_cr2_to_jpeg(input_folder, output_folder)"
   ]
  },
  {
   "cell_type": "code",
   "execution_count": null,
   "id": "a0ac4faa",
   "metadata": {},
   "outputs": [],
   "source": []
  }
 ],
 "metadata": {
  "kernelspec": {
   "display_name": "Python 3 (ipykernel)",
   "language": "python",
   "name": "python3"
  },
  "language_info": {
   "codemirror_mode": {
    "name": "ipython",
    "version": 3
   },
   "file_extension": ".py",
   "mimetype": "text/x-python",
   "name": "python",
   "nbconvert_exporter": "python",
   "pygments_lexer": "ipython3",
   "version": "3.10.9"
  }
 },
 "nbformat": 4,
 "nbformat_minor": 5
}
